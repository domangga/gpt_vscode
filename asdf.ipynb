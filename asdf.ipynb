{
 "cells": [
  {
   "cell_type": "code",
   "execution_count": 42,
   "metadata": {},
   "outputs": [],
   "source": [
    "from langchain_openai import ChatOpenAI\n",
    "chat = ChatOpenAI()"
   ]
  },
  {
   "cell_type": "code",
   "execution_count": 43,
   "metadata": {},
   "outputs": [
    {
     "data": {
      "text/plain": [
       "'Hello! I am an AI assistant and I do not have a name. You can just call me Assistant. How can I help you today?'"
      ]
     },
     "execution_count": 43,
     "metadata": {},
     "output_type": "execute_result"
    }
   ],
   "source": [
    "# pridict() - 예측값, llm, chatModel 과의 대화의 예측\n",
    "\n",
    "chat.predict('Hello, what is your name?')"
   ]
  },
  {
   "cell_type": "code",
   "execution_count": 44,
   "metadata": {},
   "outputs": [
    {
     "data": {
      "text/plain": [
       "AIMessage(content='Hello! I am a virtual assistant and I do not have a personal name. How can I assist you today?', response_metadata={'token_usage': {'completion_tokens': 23, 'prompt_tokens': 14, 'total_tokens': 37}, 'model_name': 'gpt-3.5-turbo', 'system_fingerprint': None, 'finish_reason': 'stop', 'logprobs': None}, id='run-d281cea7-fc35-4227-919a-20534b54b13f-0', usage_metadata={'input_tokens': 14, 'output_tokens': 23, 'total_tokens': 37})"
      ]
     },
     "execution_count": 44,
     "metadata": {},
     "output_type": "execute_result"
    }
   ],
   "source": [
    "# invoke() - AImessage 자체를 가져와서 상세한 정보를 알수 있음\n",
    "\n",
    "chat.invoke('Hello, what is your name?')"
   ]
  },
  {
   "cell_type": "code",
   "execution_count": 45,
   "metadata": {},
   "outputs": [
    {
     "data": {
      "text/plain": [
       "AIMessage(content='한국과 일본 사이의 거리는 약 800km입니다. 제 이름은 민지입니다.', response_metadata={'token_usage': {'completion_tokens': 30, 'prompt_tokens': 50, 'total_tokens': 80}, 'model_name': 'gpt-3.5-turbo', 'system_fingerprint': None, 'finish_reason': 'stop', 'logprobs': None}, id='run-d531ae1a-d29e-484e-8664-915a9eae35f8-0', usage_metadata={'input_tokens': 50, 'output_tokens': 30, 'total_tokens': 80})"
      ]
     },
     "execution_count": 45,
     "metadata": {},
     "output_type": "execute_result"
    }
   ],
   "source": [
    "from langchain_core.prompts import PromptTemplate, ChatPromptTemplate\n",
    "\n",
    "chat = ChatOpenAI(\n",
    "    temperature = 0.1 # 온도 : 높을수로 창의적임 (무작위성 답변을 할 확룰이 높아짐, 조금더 사람같아짐)\n",
    ")\n",
    "# message = [\n",
    "#     SystemMessage(\n",
    "#         content=\"You are a geography expert, and you only reply in {language}\"\n",
    "#     ),\n",
    "#     AIMessage(content=\"Hi my name is {name}!\"),\n",
    "#     HumanMessage(\n",
    "\n",
    "#         content=\"What is the distance between {contry_a} and {contry_b}, Also what is your name?\"\n",
    "#     )\n",
    "# ]\n",
    "chat.predict_messages(message)"
   ]
  },
  {
   "cell_type": "code",
   "execution_count": 46,
   "metadata": {},
   "outputs": [
    {
     "data": {
      "text/plain": [
       "'The distance between Mexico and South Korea is approximately 12,000 kilometers (7,456 miles) when measured in a straight line.'"
      ]
     },
     "execution_count": 46,
     "metadata": {},
     "output_type": "execute_result"
    }
   ],
   "source": [
    "template = PromptTemplate.from_template(\n",
    "    \"What is the distance between {contry_a} and {contry_b}\"\n",
    ")\n",
    "\n",
    "prompt=template.format(contry_a=\"Mexico\",contry_b=\"Korea\")\n",
    "\n",
    "chat.predict(prompt)"
   ]
  },
  {
   "cell_type": "code",
   "execution_count": 47,
   "metadata": {},
   "outputs": [
    {
     "name": "stdout",
     "output_type": "stream",
     "text": [
      "[SystemMessage(content='You are a geography expert, and you only reply in English'), AIMessage(content='Hi my name is Max!'), HumanMessage(content='What is the distance between china and Russia, Also what is your name?')]\n"
     ]
    },
    {
     "data": {
      "text/plain": [
       "AIMessage(content='Hello! The distance between China and Russia varies depending on the specific locations being compared. For example, the distance between Beijing, China and Moscow, Russia is approximately 4,500 kilometers (2,800 miles) if you were to travel in a straight line. My name is Max, how can I assist you today?', response_metadata={'token_usage': {'completion_tokens': 65, 'prompt_tokens': 48, 'total_tokens': 113}, 'model_name': 'gpt-3.5-turbo', 'system_fingerprint': None, 'finish_reason': 'stop', 'logprobs': None}, id='run-ff5a01b5-97d0-40f0-89fa-908557ab94f2-0', usage_metadata={'input_tokens': 48, 'output_tokens': 65, 'total_tokens': 113})"
      ]
     },
     "execution_count": 47,
     "metadata": {},
     "output_type": "execute_result"
    }
   ],
   "source": [
    "template = ChatPromptTemplate.from_messages(\n",
    "    [\n",
    "    (\"system\",\"You are a geography expert, and you only reply in {language}\"),\n",
    "    (\"ai\",\"Hi my name is {name}!\"),\n",
    "    ('human',\"What is the distance between {contry_a} and {contry_b}, Also what is your name?\")\n",
    "    ]\n",
    ")\n",
    "prompt = template.format_messages(\n",
    "    language=\"English\",\n",
    "    name=\"Max\",\n",
    "    contry_a='china',\n",
    "    contry_b=\"Russia\"\n",
    ")\n",
    "print(prompt)\n",
    "\n",
    "chat.predict_messages(prompt)"
   ]
  },
  {
   "cell_type": "code",
   "execution_count": 48,
   "metadata": {},
   "outputs": [],
   "source": [
    "from langchain_openai import ChatOpenAI\n",
    "from langchain_core.prompts import ChatPromptTemplate\n",
    "\n",
    "chat = ChatOpenAI(\n",
    "    temperature=0.1,\n",
    ")"
   ]
  },
  {
   "cell_type": "code",
   "execution_count": 49,
   "metadata": {},
   "outputs": [],
   "source": [
    "from langchain_core.output_parsers import BaseOutputParser\n",
    "\n",
    "class CommaOutPutPareser(BaseOutputParser) :\n",
    "    def parse(self,text):\n",
    "        items = text.strip().split(\",\")\n",
    "\n",
    "        \n",
    "        return list(map(str.strip,items))"
   ]
  },
  {
   "cell_type": "code",
   "execution_count": 50,
   "metadata": {},
   "outputs": [],
   "source": [
    "template = ChatPromptTemplate.from_messages(\n",
    "    [\n",
    "        (\n",
    "            \"system\",\n",
    "            \"You are a list generating machine. Everything you are asked will be answered with a comma separated list of max {max_items} in lowercase.Do NOT reply with anything else.\",\n",
    "        ),\n",
    "        (\"human\", \"{question}\"),\n",
    "    ]\n",
    ")"
   ]
  },
  {
   "cell_type": "code",
   "execution_count": 56,
   "metadata": {},
   "outputs": [],
   "source": [
    "chain = template | chat | CommaOutPutPareser()"
   ]
  },
  {
   "cell_type": "code",
   "execution_count": 57,
   "metadata": {},
   "outputs": [
    {
     "data": {
      "text/plain": [
       "['mercury', 'venus', 'earth']"
      ]
     },
     "execution_count": 57,
     "metadata": {},
     "output_type": "execute_result"
    }
   ],
   "source": [
    "chain.invoke(\n",
    "    {\n",
    "        \"max_items\":3,\n",
    "        \"question\":\"what are the planet\"\n",
    "    }\n",
    ")"
   ]
  },
  {
   "cell_type": "code",
   "execution_count": 55,
   "metadata": {},
   "outputs": [
    {
     "data": {
      "text/plain": [
       "['dsafgsd']"
      ]
     },
     "execution_count": 55,
     "metadata": {},
     "output_type": "execute_result"
    }
   ],
   "source": [
    "p = CommaOutPutPareser()\n",
    "\n",
    "p.parse(\"dsafgsd\")"
   ]
  }
 ],
 "metadata": {
  "kernelspec": {
   "display_name": "env",
   "language": "python",
   "name": "python3"
  },
  "language_info": {
   "codemirror_mode": {
    "name": "ipython",
    "version": 3
   },
   "file_extension": ".py",
   "mimetype": "text/x-python",
   "name": "python",
   "nbconvert_exporter": "python",
   "pygments_lexer": "ipython3",
   "version": "3.11.9"
  }
 },
 "nbformat": 4,
 "nbformat_minor": 2
}
