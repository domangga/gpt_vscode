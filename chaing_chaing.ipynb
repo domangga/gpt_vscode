{
 "cells": [
  {
   "cell_type": "code",
   "execution_count": 6,
   "metadata": {},
   "outputs": [],
   "source": [
    "from langchain_openai import ChatOpenAI\n",
    "from langchain_core.prompts import ChatPromptTemplate\n",
    "from langchain_core.callbacks import StreamingStdOutCallbackHandler"
   ]
  },
  {
   "cell_type": "code",
   "execution_count": 42,
   "metadata": {},
   "outputs": [],
   "source": [
    "chat = ChatOpenAI(\n",
    "    temperature= 0.1,\n",
    "    streaming=True,\n",
    "    # api_key=\"\"\n",
    ")\n",
    "\n",
    "chef_prompt = ChatPromptTemplate.from_messages(\n",
    "    [\n",
    "        (\n",
    "            \"system\",\n",
    "            \"You are a world-class international chef. You create easy to follow recipies for any type of cuisine with easy to find ingredients.\"\n",
    "\n",
    "        ),\n",
    "        (\n",
    "            \"human\",\"I wnat to cook {cuisine} food.\"\n",
    "        )\n",
    "    ]\n",
    ")\n",
    "chef_chain = chef_prompt | chat"
   ]
  },
  {
   "cell_type": "code",
   "execution_count": 27,
   "metadata": {},
   "outputs": [
    {
     "data": {
      "text/plain": [
       "AIMessage(content=\"Great choice! How about trying to make a delicious and simple Chicken Teriyaki dish? Here's a recipe for you:\\n\\nChicken Teriyaki Recipe:\\n\\nIngredients:\\n- 2 boneless, skinless chicken breasts\\n- 1/4 cup soy sauce\\n- 1/4 cup mirin (Japanese sweet rice wine)\\n- 2 tablespoons sugar\\n- 1 tablespoon vegetable oil\\n- 1 clove garlic, minced\\n- 1 teaspoon grated ginger\\n- Sesame seeds and chopped green onions for garnish\\n\\nInstructions:\\n1. Slice the chicken breasts into thin strips or bite-sized pieces.\\n2. In a bowl, mix together the soy sauce, mirin, and sugar until the sugar is dissolved.\\n3. Heat the vegetable oil in a large skillet over medium-high heat.\\n4. Add the minced garlic and grated ginger to the skillet and sauté for about 30 seconds until fragrant.\\n5. Add the chicken pieces to the skillet and cook until browned on all sides, about 5-7 minutes.\\n6. Pour the soy sauce mixture over the chicken and stir to coat.\\n7. Reduce the heat to low and simmer for another 5-7 minutes until the sauce has thickened and the chicken is cooked through.\\n8. Serve the Chicken Teriyaki over steamed rice and garnish with sesame seeds and chopped green onions.\\n\\nEnjoy your homemade Chicken Teriyaki! Let me know if you have any other Japanese dishes in mind that you'd like to try.\", response_metadata={'finish_reason': 'stop'}, id='run-4376a826-063d-4435-af61-c4a0a31ed09d-0')"
      ]
     },
     "execution_count": 27,
     "metadata": {},
     "output_type": "execute_result"
    }
   ],
   "source": [
    "chef_chain.invoke({\n",
    "    \"cuisine\" : \"japan\"\n",
    "})"
   ]
  },
  {
   "cell_type": "code",
   "execution_count": 28,
   "metadata": {},
   "outputs": [],
   "source": [
    "veg_chef_prompt = ChatPromptTemplate.from_messages(\n",
    "    [\n",
    "        (\n",
    "            \"system\",\n",
    "            \"You are a vegetarian chef specialized on making traditional recipies vegetarian. You find alternative ingredients and explain their preparation. You don't radically modify the recipe. If there is no alternative for a food just say you don't know how to replace it.\",\n",
    "\n",
    "        ),\n",
    "        (\n",
    "            \"human\",\"{recipe}\",\n",
    "        )\n",
    "    ]\n",
    ")\n",
    "veg_chain = veg_chef_prompt | chat"
   ]
  },
  {
   "cell_type": "code",
   "execution_count": 29,
   "metadata": {},
   "outputs": [],
   "source": [
    "final_chain = {\"recipe\" : chef_chain } | veg_chain"
   ]
  },
  {
   "cell_type": "code",
   "execution_count": 30,
   "metadata": {},
   "outputs": [
    {
     "data": {
      "text/plain": [
       "AIMessage(content=\"For a vegetarian version of Chicken Teriyaki, you can easily substitute the chicken with tofu or seitan. Here's how you can prepare it:\\n\\nIngredients:\\n- 1 block of firm tofu or seitan, cut into thin strips or bite-sized pieces\\n- 1/4 cup soy sauce\\n- 1/4 cup mirin (Japanese sweet rice wine)\\n- 2 tablespoons sugar\\n- 1 tablespoon vegetable oil\\n- 1 clove garlic, minced\\n- 1 teaspoon grated ginger\\n- Sesame seeds and sliced green onions for garnish\\n\\nInstructions:\\n1. If using tofu, make sure to press it to remove excess water before cutting it into strips.\\n2. In a small bowl, mix together the soy sauce, mirin, and sugar until the sugar is dissolved.\\n3. Heat the vegetable oil in a large skillet over medium-high heat.\\n4. Add the minced garlic and grated ginger to the skillet and sauté for about 30 seconds until fragrant.\\n5. Add the tofu or seitan to the skillet and cook until browned on all sides, about 5-7 minutes.\\n6. Pour the soy sauce mixture over the tofu or seitan and stir to coat.\\n7. Reduce the heat to low and simmer for another 5-7 minutes until the sauce thickens and the tofu or seitan is heated through.\\n8. Serve the Vegetarian Teriyaki over steamed rice and garnish with sesame seeds and sliced green onions.\\n\\nEnjoy your delicious Vegetarian Teriyaki! Let me know if you have any other recipes you'd like to make vegetarian.\", response_metadata={'finish_reason': 'stop'}, id='run-7ac6ba17-b6b4-4d4c-92f1-d71c2a9b65d9-0')"
      ]
     },
     "execution_count": 30,
     "metadata": {},
     "output_type": "execute_result"
    }
   ],
   "source": [
    "final_chain.invoke({\n",
    "    \"cuisine\": \"japan\"\n",
    "})"
   ]
  },
  {
   "cell_type": "code",
   "execution_count": 31,
   "metadata": {},
   "outputs": [],
   "source": [
    "translate = ChatPromptTemplate.from_messages(\n",
    "    [\n",
    "        (\n",
    "            \"system\",\n",
    "            \"translate it into korean.\",\n",
    "\n",
    "        ),\n",
    "        (\n",
    "            \"human\",\"{recipe}\",\n",
    "        )\n",
    "    ]\n",
    ")\n",
    "translate_chain = translate | chat"
   ]
  },
  {
   "cell_type": "code",
   "execution_count": 32,
   "metadata": {},
   "outputs": [],
   "source": [
    "final_final_chain = {\"recipe\" : chef_chain } | translate_chain"
   ]
  },
  {
   "cell_type": "code",
   "execution_count": 33,
   "metadata": {},
   "outputs": [
    {
     "data": {
      "text/plain": [
       "AIMessage(content='\"좋은 선택이에요! 맛있고 간단한 테리야키 치킨 요리를 해보는 건 어떠세요? 여기 레시피가 있어요:\\n\\n테리야키 치킨 레시피:\\n\\n재료:\\n- 2개의 뼈 없는, 피부 없는 닭가슴살\\n- 1/4컵 간장\\n- 1/4컵 미린 (일본 달콤한 쌀주)\\n- 설탕 2큰 숟가락\\n- 다진 마늘 1쪽\\n- 다진 생강 1작은 숟가락\\n- 식용유 1큰 숟가락\\n- 참깨와 다진 파초 (장식용)\\n\\n요령:\\n1. 닭가슴살을 얇게 썰거나 한 입 크기로 자릅니다.\\n2. 그릇에 간장, 미린, 설탕, 마늘, 생강을 섞어 테리야키 소스를 만듭니다.\\n3. 대형 프라이팬에 식용유를 가열합니다.\\n4. 프라이팬에 닭을 넣고 모든 면이 갈색이 될 때까지 익힙니다.\\n5. 테리야키 소스를 닭 위에 부어 섞어줍니다.\\n6. 불을 낮추고 5-7분 정도 끓여줍니다. 닭이 익고 소스가 농축될 때까지요.\\n7. 즐겨라! 참깨와 다진 파초를 곁들여 즐기세요.\\n\\n당신의 집에서 만든 테리야키 치킨을 즐기세요! 다른 일본 요리를 시도하고 싶은 생각이 있으면 알려주세요.\"', response_metadata={'finish_reason': 'stop'}, id='run-843e5a33-fd66-4e66-a804-85f5f66716b2-0')"
      ]
     },
     "execution_count": 33,
     "metadata": {},
     "output_type": "execute_result"
    }
   ],
   "source": [
    "final_final_chain.invoke({\n",
    "    \"cuisine\": \"japan\"\n",
    "})"
   ]
  }
 ],
 "metadata": {
  "kernelspec": {
   "display_name": "env",
   "language": "python",
   "name": "python3"
  },
  "language_info": {
   "codemirror_mode": {
    "name": "ipython",
    "version": 3
   },
   "file_extension": ".py",
   "mimetype": "text/x-python",
   "name": "python",
   "nbconvert_exporter": "python",
   "pygments_lexer": "ipython3",
   "version": "3.11.9"
  },
  "orig_nbformat": 4
 },
 "nbformat": 4,
 "nbformat_minor": 2
}
