{
 "cells": [
  {
   "cell_type": "code",
   "execution_count": 55,
   "metadata": {},
   "outputs": [],
   "source": [
    "\n",
    "from langchain_openai import ChatOpenAI\n",
    "from langchain_core.prompts import FewShotChatMessagePromptTemplate, ChatPromptTemplate\n",
    "from langchain_core.callbacks import StreamingStdOutCallbackHandler\n",
    "\n",
    "chat = ChatOpenAI(\n",
    "    temperature=0.1,\n",
    "    streaming=True,\n",
    "    callbacks=[\n",
    "        StreamingStdOutCallbackHandler()\n",
    "    ],\n",
    ")\n"
   ]
  },
  {
   "cell_type": "code",
   "execution_count": 62,
   "metadata": {},
   "outputs": [],
   "source": [
    "examples = [\n",
    "    {\n",
    "        \"traditionalclothe\" : \"hanbok?\",\n",
    "        \"answer\" : \"\"\"\n",
    "        Here is what l know:\n",
    "            origin : korea\n",
    "            fabric : The cloth used in Hanbok is mainly made of silk or cotton.\n",
    "            Manufacturing method : Hanbok is traditionally made through meticulous cutting, sewing, and intricate embroidery to create elegant Korean garments.\n",
    "\n",
    "        \"\"\"\n",
    "    },\n",
    "    {\n",
    "    \"traditionalclothe\": \"kimono?\",\n",
    "        \"answer\": \"\"\"\n",
    "        Here is what l know:\n",
    "            origin : japan\n",
    "            fabric : The fabric of a kimono is typically silk, known for its luxurious texture, sheen, and ability to hold intricate designs and vibrant colors.\n",
    "            Kimono is crafted through precise cutting, sewing, and intricate decoration of high-quality silk fabric, embodying traditional Japanese craftsmanship and aesthetics.\n",
    "        \"\"\",\n",
    "    },\n",
    "    {\n",
    "        \"traditionalclothe\": \"chipao?\",\n",
    "        \"answer\": \"\"\"\n",
    "        Here is what l know:\n",
    "            origin : korea\n",
    "            fabric : Chiffon is a lightweight, sheer fabric made from silk or nylon, known for its elegant drape and often used in women's dresses, blouses, and scarves.\n",
    "           Chiffon is manufactured by selecting high-quality silk or nylon, weaving it into a lightweight, translucent fabric, and finishing it with treatments to enhance softness and drape, culminating in a delicate and elegant material used widely in fashion.\n",
    "        \"\"\",\n",
    "    },\n",
    "]"
   ]
  },
  {
   "cell_type": "code",
   "execution_count": 63,
   "metadata": {},
   "outputs": [],
   "source": [
    "example_prompt= ChatPromptTemplate.from_messages(\n",
    "    [\n",
    "        (\"human\",\"what do know about{traditionalclothe}?\"),\n",
    "        (\"ai\", \"{answer}\"),\n",
    "    ]\n",
    ")"
   ]
  },
  {
   "cell_type": "code",
   "execution_count": 64,
   "metadata": {},
   "outputs": [],
   "source": [
    "example_prompt = FewShotChatMessagePromptTemplate(\n",
    "    example_prompt=example_prompt,\n",
    "    examples=examples,\n",
    ")"
   ]
  },
  {
   "cell_type": "code",
   "execution_count": 65,
   "metadata": {},
   "outputs": [],
   "source": [
    "final_prompt = ChatPromptTemplate.from_messages(\n",
    "    [\n",
    "        (\"system\", \"You are a clothing expert. You give answers about clothes.\"),\n",
    "        example_prompt,\n",
    "        (\"human\", \"what do yo konw about {traditionalclothe}?\")\n",
    "    ]\n",
    ")"
   ]
  },
  {
   "cell_type": "code",
   "execution_count": 66,
   "metadata": {},
   "outputs": [],
   "source": [
    "chain = final_prompt |chat"
   ]
  },
  {
   "cell_type": "code",
   "execution_count": 67,
   "metadata": {},
   "outputs": [
    {
     "name": "stdout",
     "output_type": "stream",
     "text": [
      "\n",
      "        Here is what l know:\n",
      "            origin : Korea\n",
      "            fabric : Hanbok is traditionally made of silk or cotton, with silk being the preferred fabric for formal occasions due to its luxurious texture and sheen.\n",
      "            Manufacturing method : Hanbok is crafted through meticulous cutting, sewing, and intricate embroidery to create elegant Korean garments that reflect the country's rich cultural heritage and traditional craftsmanship."
     ]
    },
    {
     "data": {
      "text/plain": [
       "AIMessage(content=\"\\n        Here is what l know:\\n            origin : Korea\\n            fabric : Hanbok is traditionally made of silk or cotton, with silk being the preferred fabric for formal occasions due to its luxurious texture and sheen.\\n            Manufacturing method : Hanbok is crafted through meticulous cutting, sewing, and intricate embroidery to create elegant Korean garments that reflect the country's rich cultural heritage and traditional craftsmanship.\", response_metadata={'finish_reason': 'stop'}, id='run-b01c087f-521d-44ed-a36c-ef34ddf6b16c-0')"
      ]
     },
     "execution_count": 67,
     "metadata": {},
     "output_type": "execute_result"
    }
   ],
   "source": [
    "chain.invoke(\n",
    "    {\n",
    "    \"traditionalclothe\" : \"hanbok\",\n",
    "    \n",
    "    }\n",
    ")"
   ]
  },
  {
   "cell_type": "code",
   "execution_count": null,
   "metadata": {},
   "outputs": [],
   "source": []
  }
 ],
 "metadata": {
  "kernelspec": {
   "display_name": "env",
   "language": "python",
   "name": "python3"
  },
  "language_info": {
   "codemirror_mode": {
    "name": "ipython",
    "version": 3
   },
   "file_extension": ".py",
   "mimetype": "text/x-python",
   "name": "python",
   "nbconvert_exporter": "python",
   "pygments_lexer": "ipython3",
   "version": "3.11.9"
  },
  "orig_nbformat": 4
 },
 "nbformat": 4,
 "nbformat_minor": 2
}
