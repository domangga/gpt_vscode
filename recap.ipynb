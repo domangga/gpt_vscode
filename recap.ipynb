{
 "cells": [
  {
   "cell_type": "code",
   "execution_count": 2,
   "metadata": {},
   "outputs": [],
   "source": [
    "from langchain_openai import OpenAI,ChatOpenAI\n",
    "from langchain_core.callbacks import StreamingStdOutCallbackHandler\n",
    "llm = OpenAI()\n",
    "chat = ChatOpenAI(\n",
    "    temperature=0.1,\n",
    "    model='gpt-3.5-turbo',\n",
    "    streaming=True,\n",
    "    callbacks=[\n",
    "        StreamingStdOutCallbackHandler()\n",
    "    ]\n",
    ")"
   ]
  },
  {
   "cell_type": "code",
   "execution_count": 3,
   "metadata": {},
   "outputs": [
    {
     "name": "stderr",
     "output_type": "stream",
     "text": [
      "c:\\Users\\TOP\\Desktop\\venv_study\\env\\Lib\\site-packages\\langchain_core\\_api\\deprecation.py:119: LangChainDeprecationWarning: The method `BaseChatModel.predict` was deprecated in langchain-core 0.1.7 and will be removed in 0.3.0. Use invoke instead.\n",
      "  warn_deprecated(\n"
     ]
    },
    {
     "name": "stdout",
     "output_type": "stream",
     "text": [
      "There is no definitive answer to this question as different cultures and societies may recognize different numbers of genders. In many Western societies, there is a growing recognition of non-binary and genderqueer identities in addition to male and female genders. Some cultures may recognize multiple genders beyond just male and female, such as the hijra community in South Asia or the Two-Spirit identity in some Indigenous cultures. Ultimately, the concept of gender is complex and fluid, and individuals may identify in a variety of ways beyond just male or female."
     ]
    },
    {
     "data": {
      "text/plain": [
       "'There is no definitive answer to this question as different cultures and societies may recognize different numbers of genders. In many Western societies, there is a growing recognition of non-binary and genderqueer identities in addition to male and female genders. Some cultures may recognize multiple genders beyond just male and female, such as the hijra community in South Asia or the Two-Spirit identity in some Indigenous cultures. Ultimately, the concept of gender is complex and fluid, and individuals may identify in a variety of ways beyond just male or female.'"
      ]
     },
     "execution_count": 3,
     "metadata": {},
     "output_type": "execute_result"
    }
   ],
   "source": [
    "chat.predict(\"How many genders are there?\")"
   ]
  },
  {
   "cell_type": "code",
   "execution_count": null,
   "metadata": {},
   "outputs": [],
   "source": [
    "chat.invoke('')"
   ]
  }
 ],
 "metadata": {
  "kernelspec": {
   "display_name": "env",
   "language": "python",
   "name": "python3"
  },
  "language_info": {
   "codemirror_mode": {
    "name": "ipython",
    "version": 3
   },
   "file_extension": ".py",
   "mimetype": "text/x-python",
   "name": "python",
   "nbconvert_exporter": "python",
   "pygments_lexer": "ipython3",
   "version": "3.11.9"
  },
  "orig_nbformat": 4
 },
 "nbformat": 4,
 "nbformat_minor": 2
}
