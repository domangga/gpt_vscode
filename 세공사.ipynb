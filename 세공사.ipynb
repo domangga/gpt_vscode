{
 "cells": [
  {
   "cell_type": "code",
   "execution_count": 10,
   "metadata": {},
   "outputs": [],
   "source": [
    "from langchain_openai import ChatOpenAI\n",
    "from langchain_core.prompts import ChatPromptTemplate\n",
    "from langchain_core.callbacks import StreamingStdOutCallbackHandler"
   ]
  },
  {
   "cell_type": "code",
   "execution_count": 11,
   "metadata": {},
   "outputs": [],
   "source": [
    "chat = ChatOpenAI(\n",
    "    temperature= 0.1,\n",
    "    streaming=True,\n",
    "    # api_key=\"\"\n",
    "    callbacks=[\n",
    "        StreamingStdOutCallbackHandler()\n",
    "    ]\n",
    ")\n",
    "\n",
    "diamond_prompt = ChatPromptTemplate.from_messages(\n",
    "    [\n",
    "        (\n",
    "            \"system\",\n",
    "            \"넌 다이아몬드 세공사다\"\n",
    "\n",
    "        ),\n",
    "        (\n",
    "            \"human\",\"다이아몬드 {jwealary} 만드는 방법을 알려줘.\"\n",
    "        )\n",
    "    ]\n",
    ")\n",
    "diamond_chain = diamond_prompt | chat"
   ]
  },
  {
   "cell_type": "code",
   "execution_count": 12,
   "metadata": {},
   "outputs": [
    {
     "name": "stdout",
     "output_type": "stream",
     "text": [
      "다이아몬드 반지를 만드는 과정은 다음과 같습니다:\n",
      "\n",
      "1. 다이아몬드 선택: 먼저 다이아몬드를 선택해야 합니다. 다이아몬드의 크기, 색상, 순도 등을 고려하여 적합한 다이아몬드를 선택합니다.\n",
      "\n",
      "2. 디자인 결정: 반지의 디자인을 결정합니다. 원형, 프린세스 컷, 에메랄드 컷 등 여러 디자인 중에서 선택할 수 있습니다.\n",
      "\n",
      "3. 금속 선택: 반지를 만들 때 사용할 금속을 선택합니다. 주로 사용되는 금속은 화이트 골드, 옐로우 골드, 로즈 골드, 플래티넘 등이 있습니다.\n",
      "\n",
      "4. 제작: 다이아몬드와 선택한 금속을 이용하여 반지를 제작합니다. 다이아몬드를 세팅하고 금속을 가공하여 반지의 형태를 만들어냅니다.\n",
      "\n",
      "5. 마무리: 반지의 마무리 작업을 진행합니다. 다이아몬드를 광택 처리하고, 금속 부분을 마무리하여 완성된 반지를 만들어냅니다.\n",
      "\n",
      "이러한 과정을 거쳐 다이아몬드 반지를 만들 수 있습니다. 만약 전문가의 도움이 필요하다면 다이아몬드 제작 전문가나 주얼리 디자이너와 상담하여 원하는 반지를 만들어보는 것도 좋은 방법입니다."
     ]
    },
    {
     "data": {
      "text/plain": [
       "AIMessage(content='다이아몬드 반지를 만드는 과정은 다음과 같습니다:\\n\\n1. 다이아몬드 선택: 먼저 다이아몬드를 선택해야 합니다. 다이아몬드의 크기, 색상, 순도 등을 고려하여 적합한 다이아몬드를 선택합니다.\\n\\n2. 디자인 결정: 반지의 디자인을 결정합니다. 원형, 프린세스 컷, 에메랄드 컷 등 여러 디자인 중에서 선택할 수 있습니다.\\n\\n3. 금속 선택: 반지를 만들 때 사용할 금속을 선택합니다. 주로 사용되는 금속은 화이트 골드, 옐로우 골드, 로즈 골드, 플래티넘 등이 있습니다.\\n\\n4. 제작: 다이아몬드와 선택한 금속을 이용하여 반지를 제작합니다. 다이아몬드를 세팅하고 금속을 가공하여 반지의 형태를 만들어냅니다.\\n\\n5. 마무리: 반지의 마무리 작업을 진행합니다. 다이아몬드를 광택 처리하고, 금속 부분을 마무리하여 완성된 반지를 만들어냅니다.\\n\\n이러한 과정을 거쳐 다이아몬드 반지를 만들 수 있습니다. 만약 전문가의 도움이 필요하다면 다이아몬드 제작 전문가나 주얼리 디자이너와 상담하여 원하는 반지를 만들어보는 것도 좋은 방법입니다.', response_metadata={'finish_reason': 'stop'}, id='run-efc64b0e-2b49-4803-9a7e-3dcba7074935-0')"
      ]
     },
     "execution_count": 12,
     "metadata": {},
     "output_type": "execute_result"
    }
   ],
   "source": [
    "diamond_chain.invoke({\n",
    "    \"jwealary\": \"반지\"\n",
    "})"
   ]
  },
  {
   "cell_type": "code",
   "execution_count": 25,
   "metadata": {},
   "outputs": [],
   "source": [
    "chat = ChatOpenAI(\n",
    "    temperature= 0.1,\n",
    "    streaming=True,\n",
    "    # api_key=\"\"\n",
    "    callbacks=[\n",
    "        StreamingStdOutCallbackHandler()\n",
    "    ]\n",
    ")\n",
    "\n",
    "gold_prompt = ChatPromptTemplate.from_messages(\n",
    "    [\n",
    "        (\n",
    "            \"system\",\n",
    "            \"넌 금 세공사다 \"\n",
    "\n",
    "        ),\n",
    "        (\n",
    "            \"human\",\"{recipe}를 금으로 할수있게 바꿔라\",\n",
    "        )\n",
    "    ]\n",
    ")\n",
    "gold_chain = gold_prompt | chat"
   ]
  },
  {
   "cell_type": "code",
   "execution_count": 26,
   "metadata": {},
   "outputs": [],
   "source": [
    "final_gold_hcain= {\"recipe\" :diamond_chain} | gold_chain"
   ]
  },
  {
   "cell_type": "code",
   "execution_count": 27,
   "metadata": {},
   "outputs": [
    {
     "name": "stdout",
     "output_type": "stream",
     "text": [
      "다이아몬드 반지를 만드는 과정은 다음과 같습니다:\n",
      "\n",
      "1. 다이아몬드 선택: 먼저 다이아몬드를 선택해야 합니다. 다이아몬드의 크기, 색상, 순도 등을 고려하여 적합한 다이아몬드를 선택합니다.\n",
      "\n",
      "2. 디자인 결정: 반지의 디자인을 결정합니다. 원형, 프린세스 컷, 에메랄드 컷 등 원하는 다이아몬드 컷과 반지 디자인을 선택합니다.\n",
      "\n",
      "3. 금속 선택: 반지를 만들 때 사용할 금속을 선택합니다. 주로 사용되는 금속은 화이트 골드, 옐로우 골드, 로즈 골드, 플래티넘 등이 있습니다.\n",
      "\n",
      "4. 다이아몬드 세팅: 다이아몬드를 반지에 세팅하는 과정입니다. 다이아몬드를 금속에 고정시키는 작업을 정밀하게 수행해야 합니다.\n",
      "\n",
      "5. 마무리: 반지의 마무리 작업을 진행합니다. 다이아몬드를 꼼꼼히 닦고, 반지의 디테일을 완성시킵니다.\n",
      "\n",
      "이러한 과정을 거쳐 다이아몬드 반지를 만들 수 있습니다. 만약 전문가의 도움이 필요하다면 다이아몬드 세공사나 주얼리 디자이너와 상담하여 원하는 반지를 제작할 수 있습니다.content='금 반지를 만드는 과정은 다음과 같습니다:\\n\\n1. 금 선택: 먼저 적합한 금을 선택해야 합니다. 화이트 골드, 옐로우 골드, 로즈 골드, 플래티넘 등 다양한 금 속 중에서 원하는 속성과 색상을 고려하여 선택합니다.\\n\\n2. 디자인 결정: 반지의 디자인을 결정합니다. 모양, 두께, 장식 등을 고려하여 반지의 디자인을 정합니다.\\n\\n3. 금 세공: 금을 가공하여 반지의 형태로 만드는 과정입니다. 금속을 녹여 부품을 만들고, 조각을 조립하여 반지의 기본 구조를 만듭니다.\\n\\n4. 보석 세팅: 반지에 보석을 세팅하는 과정입니다. 다이아몬드나 다른 보석을 반지에 고정시키는 작업을 정밀하게 수행합니다.\\n\\n5. 마무리: 반지의 마무리 작업을 진행합니다. 반지를 닦고, 마감 작업을 통해 완성도를 높입니다.\\n\\n이러한 과정을 거쳐 금 반지를 만들 수 있습니다. 전문가의 도움이 필요하다면 금 세공사나 주얼리 디자이너와 상담하여 원하는 반지를 제작할 수 있습니다.' response_metadata={'finish_reason': 'stop'} id='run-f513bee6-1b59-42b8-ba66-897a4b121695-0'"
     ]
    },
    {
     "data": {
      "text/plain": [
       "AIMessage(content=\"content='금 반지를 만드는 과정은 다음과 같습니다:\\\\n\\\\n1. 금 선택: 먼저 적합한 금을 선택해야 합니다. 화이트 골드, 옐로우 골드, 로즈 골드, 플래티넘 등 다양한 금 속 중에서 원하는 속성과 색상을 고려하여 선택합니다.\\\\n\\\\n2. 디자인 결정: 반지의 디자인을 결정합니다. 모양, 두께, 장식 등을 고려하여 반지의 디자인을 정합니다.\\\\n\\\\n3. 금 세공: 금을 가공하여 반지의 형태로 만드는 과정입니다. 금속을 녹여 부품을 만들고, 조각을 조립하여 반지의 기본 구조를 만듭니다.\\\\n\\\\n4. 보석 세팅: 반지에 보석을 세팅하는 과정입니다. 다이아몬드나 다른 보석을 반지에 고정시키는 작업을 정밀하게 수행합니다.\\\\n\\\\n5. 마무리: 반지의 마무리 작업을 진행합니다. 반지를 닦고, 마감 작업을 통해 완성도를 높입니다.\\\\n\\\\n이러한 과정을 거쳐 금 반지를 만들 수 있습니다. 전문가의 도움이 필요하다면 금 세공사나 주얼리 디자이너와 상담하여 원하는 반지를 제작할 수 있습니다.' response_metadata={'finish_reason': 'stop'} id='run-f513bee6-1b59-42b8-ba66-897a4b121695-0'\", response_metadata={'finish_reason': 'stop'}, id='run-28dbd714-2f94-45a6-ac17-206bdd1fa06e-0')"
      ]
     },
     "execution_count": 27,
     "metadata": {},
     "output_type": "execute_result"
    }
   ],
   "source": [
    "final_gold_hcain.invoke({\n",
    "    \"jwealary\": \"반지\"\n",
    "})"
   ]
  }
 ],
 "metadata": {
  "kernelspec": {
   "display_name": "env",
   "language": "python",
   "name": "python3"
  },
  "language_info": {
   "codemirror_mode": {
    "name": "ipython",
    "version": 3
   },
   "file_extension": ".py",
   "mimetype": "text/x-python",
   "name": "python",
   "nbconvert_exporter": "python",
   "pygments_lexer": "ipython3",
   "version": "3.11.9"
  },
  "orig_nbformat": 4
 },
 "nbformat": 4,
 "nbformat_minor": 2
}
